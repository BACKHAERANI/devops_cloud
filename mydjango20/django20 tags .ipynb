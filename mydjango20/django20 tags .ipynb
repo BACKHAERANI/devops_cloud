{
 "cells": [
  {
   "cell_type": "code",
   "execution_count": 16,
   "id": "8eae1a07",
   "metadata": {},
   "outputs": [],
   "source": [
    "import os\n",
    "\n",
    "os.environ[\"DJANGO_SETTINGS_MODULE\"] = \"mydjango20.settings\"\n",
    "os.environ[\"DJANGO_ALLOW_ASYNC_UNSAFE\"] = \"true\"\n",
    "\n",
    "import django\n",
    "django.setup()"
   ]
  },
  {
   "cell_type": "code",
   "execution_count": 17,
   "id": "a1fc517b",
   "metadata": {},
   "outputs": [],
   "source": [
    "from shop.models import Shop"
   ]
  },
  {
   "cell_type": "code",
   "execution_count": 18,
   "id": "52cd885a",
   "metadata": {},
   "outputs": [
    {
     "name": "stderr",
     "output_type": "stream",
     "text": [
      "(0.000) SELECT \"shop_shop\".\"id\", \"shop_shop\".\"created_at\", \"shop_shop\".\"updated_at\", \"shop_shop\".\"category_id\", \"shop_shop\".\"name\", \"shop_shop\".\"description\", \"shop_shop\".\"telephone\" FROM \"shop_shop\" WHERE \"shop_shop\".\"id\" = 8 LIMIT 21; args=(8,)\n"
     ]
    },
    {
     "data": {
      "text/plain": [
       "<Shop: 라니네 정식>"
      ]
     },
     "execution_count": 18,
     "metadata": {},
     "output_type": "execute_result"
    }
   ],
   "source": [
    "shop = Shop.objects.get(pk=8)\n",
    "shop"
   ]
  },
  {
   "cell_type": "code",
   "execution_count": 29,
   "id": "899e8cf3",
   "metadata": {},
   "outputs": [],
   "source": [
    "tags= \"정식, 맛집\""
   ]
  },
  {
   "cell_type": "code",
   "execution_count": 42,
   "id": "9f3b47b6",
   "metadata": {},
   "outputs": [
    {
     "name": "stderr",
     "output_type": "stream",
     "text": [
      "(0.000) SELECT \"shop_tag\".\"id\", \"shop_tag\".\"name\" FROM \"shop_tag\" WHERE \"shop_tag\".\"name\" = '제육정식맛집' LIMIT 21; args=('제육정식맛집',)\n"
     ]
    },
    {
     "data": {
      "text/plain": [
       "<Tag: 제육정식맛집>"
      ]
     },
     "execution_count": 42,
     "metadata": {},
     "output_type": "execute_result"
    }
   ],
   "source": [
    "from shop.models import Tag\n",
    "tag_name = \"제육정식맛집\"\n",
    "\n",
    "# 중복생성 불가시 오류 방지\n",
    "# if not Tag.objects.filter(name=tag_name).exists():\n",
    "#     Tag.objects.create(name=tag_name)\n",
    "#     print(\"생성\")\n",
    "# else:\n",
    "#     print(\"do noting\")\n",
    "\n",
    "\n",
    "\n",
    "#Manytomany 필드처리에서 관계로 추가할 모델의 인스턴스 리스트가 필요함\n",
    "\n",
    "\n",
    "tag, __ = Tag.objects.get_or_create(name=tag_name)    # 파이썬에서 _(언더바)는 신경쓰고 싶지 않다\n",
    "tag\n"
   ]
  },
  {
   "cell_type": "code",
   "execution_count": 56,
   "id": "0f790ccb",
   "metadata": {},
   "outputs": [
    {
     "name": "stderr",
     "output_type": "stream",
     "text": [
      "(0.000) SELECT \"shop_tag\".\"id\", \"shop_tag\".\"name\" FROM \"shop_tag\" WHERE \"shop_tag\".\"name\" = '정식' LIMIT 21; args=('정식',)\n",
      "(0.000) SELECT \"shop_tag\".\"id\", \"shop_tag\".\"name\" FROM \"shop_tag\" WHERE \"shop_tag\".\"name\" = '맛집' LIMIT 21; args=('맛집',)\n"
     ]
    },
    {
     "data": {
      "text/plain": [
       "[<Tag: 정식>, <Tag: 맛집>]"
      ]
     },
     "execution_count": 56,
     "metadata": {},
     "output_type": "execute_result"
    }
   ],
   "source": [
    "tag_list=[]\n",
    "\n",
    "for word in tags.split(\",\"):\n",
    "    tag_name = word.strip()  #좌우 공백 제거\n",
    "    tag,__ = Tag.objects.get_or_create(name=tag_name)\n",
    "    tag_list.append(tag)\n",
    "    \n",
    "tag_list    "
   ]
  },
  {
   "cell_type": "code",
   "execution_count": 57,
   "id": "b02418b8",
   "metadata": {},
   "outputs": [
    {
     "name": "stderr",
     "output_type": "stream",
     "text": [
      "(0.000) SELECT \"shop_tag\".\"id\", \"shop_tag\".\"name\" FROM \"shop_tag\" INNER JOIN \"shop_shop_tag_set\" ON (\"shop_tag\".\"id\" = \"shop_shop_tag_set\".\"tag_id\") WHERE \"shop_shop_tag_set\".\"shop_id\" = 8 ORDER BY \"shop_tag\".\"name\" ASC LIMIT 21; args=(8,)\n"
     ]
    },
    {
     "data": {
      "text/plain": [
       "<QuerySet []>"
      ]
     },
     "execution_count": 57,
     "metadata": {},
     "output_type": "execute_result"
    }
   ],
   "source": [
    "shop.tag_set.all() #shop에 연결된 전체 Tag 목록                                                                       "
   ]
  },
  {
   "cell_type": "code",
   "execution_count": 58,
   "id": "ff70a9b2",
   "metadata": {},
   "outputs": [
    {
     "name": "stderr",
     "output_type": "stream",
     "text": [
      "(0.000) BEGIN; args=None\n",
      "(0.000) INSERT OR IGNORE INTO \"shop_shop_tag_set\" (\"shop_id\", \"tag_id\") SELECT 8, 12 UNION ALL SELECT 8, 4; args=(8, 12, 8, 4)\n"
     ]
    }
   ],
   "source": [
    "shop.tag_set.add(*tag_list)   # 중복 add에 대한 처리가 내부적으로 되어있음   \n",
    "# * : 원하는만큼의 태그를 지정하면 유연성이 떨어져 추가할 태그를 언팩(*)으로 펼쳐서 항목의 개수만큼을 인자로 사용"
   ]
  },
  {
   "cell_type": "code",
   "execution_count": 62,
   "id": "635ff4ed",
   "metadata": {},
   "outputs": [
    {
     "name": "stderr",
     "output_type": "stream",
     "text": [
      "(0.000) SELECT \"shop_tag\".\"id\", \"shop_tag\".\"name\" FROM \"shop_tag\" INNER JOIN \"shop_shop_tag_set\" ON (\"shop_tag\".\"id\" = \"shop_shop_tag_set\".\"tag_id\") WHERE \"shop_shop_tag_set\".\"shop_id\" = 8 ORDER BY \"shop_tag\".\"name\" ASC LIMIT 21; args=(8,)\n"
     ]
    },
    {
     "data": {
      "text/plain": [
       "<QuerySet [<Tag: 맛집>, <Tag: 정식>]>"
      ]
     },
     "execution_count": 62,
     "metadata": {},
     "output_type": "execute_result"
    }
   ],
   "source": [
    "shop.tag_set.all()"
   ]
  },
  {
   "cell_type": "code",
   "execution_count": 61,
   "id": "7b0d8e74",
   "metadata": {},
   "outputs": [],
   "source": [
    " #shop.tag_set.clear()          clear: 내용을 지움"
   ]
  },
  {
   "cell_type": "code",
   "execution_count": null,
   "id": "d8b92f24",
   "metadata": {},
   "outputs": [],
   "source": []
  },
  {
   "cell_type": "code",
   "execution_count": null,
   "id": "f6acd91b",
   "metadata": {},
   "outputs": [],
   "source": []
  }
 ],
 "metadata": {
  "kernelspec": {
   "display_name": "Python 3 (ipykernel)",
   "language": "python",
   "name": "python3"
  },
  "language_info": {
   "codemirror_mode": {
    "name": "ipython",
    "version": 3
   },
   "file_extension": ".py",
   "mimetype": "text/x-python",
   "name": "python",
   "nbconvert_exporter": "python",
   "pygments_lexer": "ipython3",
   "version": "3.10.0"
  }
 },
 "nbformat": 4,
 "nbformat_minor": 5
}
