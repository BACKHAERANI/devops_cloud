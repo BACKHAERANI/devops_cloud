{
 "cells": [
  {
   "cell_type": "code",
   "execution_count": 1,
   "id": "dde82849",
   "metadata": {},
   "outputs": [],
   "source": [
    "import os\n",
    "os.environ[\"DJANGO_SETTINGS_MODULE\"] = \"mydjango23.settings\"\n",
    "os.environ[\"DJANGO_ALLOW_ASYNC_UNSAFE\"] = \"true\"\n",
    "\n",
    "import django\n",
    "django.setup()\n"
   ]
  },
  {
   "cell_type": "code",
   "execution_count": 2,
   "id": "55207650",
   "metadata": {},
   "outputs": [],
   "source": [
    "from blog.models import Post"
   ]
  },
  {
   "cell_type": "code",
   "execution_count": 3,
   "id": "5cb2ca37",
   "metadata": {},
   "outputs": [
    {
     "data": {
      "text/plain": [
       "<dataset object>"
      ]
     },
     "execution_count": 3,
     "metadata": {},
     "output_type": "execute_result"
    }
   ],
   "source": [
    "import tablib\n",
    "\n",
    "dataset = tablib.Dataset()\n",
    "dataset.headers = [\"id\", \"title\", \"created_at\", \"updated_at\"]\n",
    "dataset"
   ]
  },
  {
   "cell_type": "code",
   "execution_count": 4,
   "id": "43694ed6",
   "metadata": {},
   "outputs": [
    {
     "data": {
      "text/plain": [
       "<dataset object>"
      ]
     },
     "execution_count": 4,
     "metadata": {},
     "output_type": "execute_result"
    }
   ],
   "source": [
    "for post in Post.objects.all():\n",
    "    dataset.append([post.id,\n",
    "                   post.title,\n",
    "                   post.created_at.strftime('%Y-%m-%d %H:%M:%S'),\n",
    "                   post.updated_at.strftime('%Y-%m-%d %H:%M:%S')])      \n",
    "    \n",
    "dataset    "
   ]
  },
  {
   "cell_type": "code",
   "execution_count": 1,
   "id": "68e9fa5b",
   "metadata": {},
   "outputs": [
    {
     "ename": "NameError",
     "evalue": "name 'dataset' is not defined",
     "output_type": "error",
     "traceback": [
      "\u001b[1;31m---------------------------------------------------------------------------\u001b[0m",
      "\u001b[1;31mNameError\u001b[0m                                 Traceback (most recent call last)",
      "\u001b[1;32m~\\AppData\\Local\\Temp/ipykernel_6572/1750469352.py\u001b[0m in \u001b[0;36m<module>\u001b[1;34m\u001b[0m\n\u001b[1;32m----> 1\u001b[1;33m \u001b[0mdataset\u001b[0m\u001b[1;33m.\u001b[0m\u001b[0mexport\u001b[0m\u001b[1;33m(\u001b[0m\u001b[1;34m\"json\"\u001b[0m\u001b[1;33m)\u001b[0m\u001b[1;33m\u001b[0m\u001b[1;33m\u001b[0m\u001b[0m\n\u001b[0m",
      "\u001b[1;31mNameError\u001b[0m: name 'dataset' is not defined"
     ]
    }
   ],
   "source": [
    "dataset.export(\"json\")"
   ]
  },
  {
   "cell_type": "code",
   "execution_count": 6,
   "id": "5cae65a0",
   "metadata": {},
   "outputs": [],
   "source": [
    "xlsx_data = dataset.export(\"xlsx\")  #문자열앞에 b가 붙으면 bytes타입\n",
    "\n",
    "with open(\"포스팅 내역.xlsx\", \"wb\") as f: #wb: wirte(새롭게생성) binary(bytes타입을 쓴다)\n",
    "    f.write(xlsx_data)"
   ]
  },
  {
   "cell_type": "code",
   "execution_count": null,
   "id": "1b73fb61",
   "metadata": {},
   "outputs": [],
   "source": []
  },
  {
   "cell_type": "code",
   "execution_count": null,
   "id": "7174b386",
   "metadata": {},
   "outputs": [],
   "source": []
  },
  {
   "cell_type": "code",
   "execution_count": null,
   "id": "d5a9bf6a",
   "metadata": {},
   "outputs": [],
   "source": []
  }
 ],
 "metadata": {
  "kernelspec": {
   "display_name": "Python 3 (ipykernel)",
   "language": "python",
   "name": "python3"
  },
  "language_info": {
   "codemirror_mode": {
    "name": "ipython",
    "version": 3
   },
   "file_extension": ".py",
   "mimetype": "text/x-python",
   "name": "python",
   "nbconvert_exporter": "python",
   "pygments_lexer": "ipython3",
   "version": "3.10.0"
  }
 },
 "nbformat": 4,
 "nbformat_minor": 5
}
