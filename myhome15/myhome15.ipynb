{
 "cells": [
  {
   "cell_type": "code",
   "execution_count": 6,
   "id": "9f150de3",
   "metadata": {},
   "outputs": [],
   "source": [
    "import os\n",
    "os.environ[\"DJANGO_SETTINGS_MODULE\"] = \"myhome15.settings\"\n",
    "os.environ[\"DJANGO_ALLOW_ASYNC_UNSAFE\"] = \"true\"\n",
    "\n",
    "import django\n",
    "django.setup()"
   ]
  },
  {
   "cell_type": "code",
   "execution_count": 7,
   "id": "4819b773",
   "metadata": {},
   "outputs": [
    {
     "data": {
      "text/plain": [
       "[['name', 'description', 'address', 'coordinates', 'telephone'],\n",
       " ['황남금고',\n",
       "  '차돌파스타, 깔조네피자가 유명한 황리단맛집\\n',\n",
       "  '경북 경주시 첨성로81번길 31 1층',\n",
       "  '35.8359307,129.2109006',\n",
       "  '0507-1372-6573'],\n",
       " ['피자옥',\n",
       "  '황리단길 트러플피자, 파스타 맛집\\n브레이크타임 15:00 - 17:00\\n(주말, 공휴일 브레이크타임 없음)',\n",
       "  '경북 경주시 손효자길 1 1층',\n",
       "  '35.8364299,129.2108207',\n",
       "  '0507-1311-7828'],\n",
       " ['도솔마을',\n",
       "  '가성비가 좋은 140년된 전통가옥 한정식 맛집\\n브레이크타임15:00-17:00 \\n매주 월화 정규휴일',\n",
       "  '경북 경주시 손효자길 8-13',\n",
       "  '35.83705399999999,129.2112253',\n",
       "  '054-748-9232'],\n",
       " ['향화정',\n",
       "  '줄서서 먹는 육회비빔밥\\n예약 불가\\n물회 제외 전메뉴 포장 가능',\n",
       "  '경북 경주시 사정로57번길 17',\n",
       "  '35.8380451,129.209196',\n",
       "  '0507-1359-8765'],\n",
       " ['온센 경주점',\n",
       "  '바삭바삭한 튀김 덮밥, 텐동\\n브레이크타임15:00-17:00 ',\n",
       "  '경북 경주시 사정로 47-2',\n",
       "  '35.8367156,129.2084044',\n",
       "  '0507-1326-1197'],\n",
       " ['이이로 커피',\n",
       "  '1,2층 및 야외좌석\\n애견동반 가능\\n(실내에서는 안거나 의자에 앉혀두고, 야외에서는 목줄착용)\\n키즈동반 가능',\n",
       "  '경북 경주시 첨성로99번길 22',\n",
       "  '35.83515209999999,129.2127681',\n",
       "  '0507-1397-8788'],\n",
       " ['천년식당',\n",
       "  '특별한 대창파스타\\n브레이크타임 15:00-17:00\\n라스트오더 20:30',\n",
       "  '경북 경주시 첨성로81번길 34 ',\n",
       "  '35.8360503,129.2112864',\n",
       "  '054-624-8134'],\n",
       " ['시즈닝',\n",
       "  '한옥인테리어의 고즈넉함 속에서 식사\\n노키즈존(0-13세)',\n",
       "  '경북 경주시 첨성로99번길 25-2',\n",
       "  '35.8354699,129.2124486',\n",
       "  '0507-1483-7477'],\n",
       " ['대화만두 황리단점',\n",
       "  '35년 전통 손만두집\\n브레이크타임 15:00-16:00',\n",
       "  '경북 경주시 포석로 1093 ',\n",
       "  '35.8387126,129.2096799',\n",
       "  '054-771-3355'],\n",
       " ['1994dining',\n",
       "  '평범함 속의 특별함\\n덜어먹기 가능한 도구 제공\\n종사자 마스크 착용 준수\\n라스트오더 15:00',\n",
       "  '경북 경주시 포석로 1064-4 1994',\n",
       "  '35.83578019999999,129.2100006',\n",
       "  '0507-1320-9402']]"
      ]
     },
     "execution_count": 7,
     "metadata": {},
     "output_type": "execute_result"
    }
   ],
   "source": [
    "from openpyxl import load_workbook\n",
    "wb = load_workbook('myhomework-data.xlsx')\n",
    "sheet = wb.active\n",
    "rows = [\n",
    "    [column.value for column in row]\n",
    "    for row in sheet\n",
    "]\n",
    "rows"
   ]
  },
  {
   "cell_type": "code",
   "execution_count": 8,
   "id": "eb34da53",
   "metadata": {},
   "outputs": [
    {
     "data": {
      "text/plain": [
       "['name', 'description', 'address', 'coordinates', 'telephone']"
      ]
     },
     "execution_count": 8,
     "metadata": {},
     "output_type": "execute_result"
    }
   ],
   "source": [
    "column_names = rows[0]\n",
    "column_names"
   ]
  },
  {
   "cell_type": "code",
   "execution_count": 11,
   "id": "6369a6b7",
   "metadata": {},
   "outputs": [
    {
     "data": {
      "text/plain": [
       "['coordinates']"
      ]
     },
     "execution_count": 11,
     "metadata": {},
     "output_type": "execute_result"
    }
   ],
   "source": [
    "row_list = []\n",
    "\n",
    "for row in rows[1:]:\n",
    "    if row[0] is None:\n",
    "        break\n",
    "    row_dict = dict(zip(column_names, row))\n",
    "    latitude, longitude = row_dict[\"coordinates\"].split(\",\")\n",
    "    row_dict [\"latitude\"] = latitude\n",
    "    row_dict [\"longitude\"] = longitude\n",
    "    del row_dict[\"coordinates\"]\n",
    "    row_list.append(row_dict)\n",
    " \n",
    "row_list"
   ]
  },
  {
   "cell_type": "code",
   "execution_count": 23,
   "id": "f4e7d0cf",
   "metadata": {},
   "outputs": [],
   "source": [
    "from hwangridan.models import Shop"
   ]
  },
  {
   "cell_type": "code",
   "execution_count": 28,
   "id": "0a9c9ce2",
   "metadata": {},
   "outputs": [
    {
     "name": "stdout",
     "output_type": "stream",
     "text": [
      "Shop object (31)\n",
      "Shop object (32)\n",
      "Shop object (33)\n",
      "Shop object (34)\n",
      "Shop object (35)\n",
      "Shop object (36)\n",
      "Shop object (37)\n",
      "Shop object (38)\n",
      "Shop object (39)\n",
      "Shop object (40)\n"
     ]
    }
   ],
   "source": [
    "for row_dict in row_list:\n",
    "    shop = Shop(**row_dict)\n",
    "    shop.save()\n",
    "    print(shop)"
   ]
  },
  {
   "cell_type": "code",
   "execution_count": null,
   "id": "c81cc6ff",
   "metadata": {},
   "outputs": [],
   "source": []
  }
 ],
 "metadata": {
  "kernelspec": {
   "display_name": "Python 3 (ipykernel)",
   "language": "python",
   "name": "python3"
  },
  "language_info": {
   "codemirror_mode": {
    "name": "ipython",
    "version": 3
   },
   "file_extension": ".py",
   "mimetype": "text/x-python",
   "name": "python",
   "nbconvert_exporter": "python",
   "pygments_lexer": "ipython3",
   "version": "3.10.0"
  }
 },
 "nbformat": 4,
 "nbformat_minor": 5
}
