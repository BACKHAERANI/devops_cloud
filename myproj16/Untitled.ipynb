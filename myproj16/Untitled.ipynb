{
 "cells": [
  {
   "cell_type": "markdown",
   "id": "79e20bd1",
   "metadata": {},
   "source": [
    "# 1."
   ]
  },
  {
   "cell_type": "code",
   "execution_count": null,
   "id": "f59b5286",
   "metadata": {},
   "outputs": [],
   "source": [
    "# class Circle:\n",
    "#     def __init__(self,x,y,radius):\n",
    "#         self.x = x\n",
    "#         self.y = y\n",
    "#         self.radius = radius"
   ]
  },
  {
   "cell_type": "code",
   "execution_count": 2,
   "id": "85d02af1",
   "metadata": {},
   "outputs": [],
   "source": [
    "# circle = Circle(20,30,10)"
   ]
  },
  {
   "cell_type": "code",
   "execution_count": 3,
   "id": "815b27b1",
   "metadata": {},
   "outputs": [
    {
     "data": {
      "text/plain": [
       "(20, 30, 10)"
      ]
     },
     "execution_count": 3,
     "metadata": {},
     "output_type": "execute_result"
    }
   ],
   "source": [
    "# circle.x,circle.y,circle.radius"
   ]
  },
  {
   "cell_type": "markdown",
   "id": "41297fc5",
   "metadata": {},
   "source": [
    "# 2."
   ]
  },
  {
   "cell_type": "code",
   "execution_count": 87,
   "id": "a11c35ab",
   "metadata": {},
   "outputs": [],
   "source": [
    "import math\n",
    "\n",
    "class Circle:\n",
    "    def __init__(self,x,y,radius):\n",
    "        self.x = x\n",
    "        self.y = y\n",
    "        self.radius = radius\n",
    "        \n",
    "\n",
    "    def get_area():\n",
    "        return math.pi*circle.radius*circle.radius\n"
   ]
  },
  {
   "cell_type": "code",
   "execution_count": 88,
   "id": "f6fa2762",
   "metadata": {},
   "outputs": [],
   "source": [
    "circle = Circle(20,30,10)"
   ]
  },
  {
   "cell_type": "code",
   "execution_count": 89,
   "id": "36718487",
   "metadata": {},
   "outputs": [
    {
     "data": {
      "text/plain": [
       "(20, 30, 10)"
      ]
     },
     "execution_count": 89,
     "metadata": {},
     "output_type": "execute_result"
    }
   ],
   "source": [
    "circle.x,circle.y,circle.radius"
   ]
  },
  {
   "cell_type": "code",
   "execution_count": 92,
   "id": "9ac4514a",
   "metadata": {},
   "outputs": [
    {
     "ename": "TypeError",
     "evalue": "get_area() missing 1 required positional argument: 'radius'",
     "output_type": "error",
     "traceback": [
      "\u001b[1;31m---------------------------------------------------------------------------\u001b[0m",
      "\u001b[1;31mTypeError\u001b[0m                                 Traceback (most recent call last)",
      "\u001b[1;32m~\\AppData\\Local\\Temp/ipykernel_4228/1486462935.py\u001b[0m in \u001b[0;36m<module>\u001b[1;34m\u001b[0m\n\u001b[1;32m----> 1\u001b[1;33m \u001b[0mget_area\u001b[0m\u001b[1;33m(\u001b[0m\u001b[0mcircle\u001b[0m\u001b[1;33m)\u001b[0m\u001b[1;33m\u001b[0m\u001b[1;33m\u001b[0m\u001b[0m\n\u001b[0m",
      "\u001b[1;31mTypeError\u001b[0m: get_area() missing 1 required positional argument: 'radius'"
     ]
    }
   ],
   "source": [
    "get_area(circle)"
   ]
  },
  {
   "cell_type": "code",
   "execution_count": null,
   "id": "a59f5022",
   "metadata": {},
   "outputs": [],
   "source": []
  },
  {
   "cell_type": "code",
   "execution_count": null,
   "id": "23f39a67",
   "metadata": {},
   "outputs": [],
   "source": []
  },
  {
   "cell_type": "code",
   "execution_count": null,
   "id": "6c792941",
   "metadata": {},
   "outputs": [],
   "source": []
  },
  {
   "cell_type": "markdown",
   "id": "ce1e9e9d",
   "metadata": {},
   "source": [
    "# 3."
   ]
  },
  {
   "cell_type": "code",
   "execution_count": 22,
   "id": "8a8681a1",
   "metadata": {},
   "outputs": [],
   "source": [
    "import math\n",
    "\n",
    "class Circle:\n",
    "    def __init__(self,x,y,radius):\n",
    "        self.x = x\n",
    "        self.y = y\n",
    "        self.radius = radius\n",
    "        \n",
    "        \n",
    "    def get_area(self):\n",
    "        return math.pi*self.radius*self.radius"
   ]
  },
  {
   "cell_type": "code",
   "execution_count": 23,
   "id": "d82e8e67",
   "metadata": {},
   "outputs": [],
   "source": [
    "circle = Circle(20,30,10)"
   ]
  },
  {
   "cell_type": "code",
   "execution_count": 24,
   "id": "341c5240",
   "metadata": {},
   "outputs": [
    {
     "data": {
      "text/plain": [
       "(20, 30, 10)"
      ]
     },
     "execution_count": 24,
     "metadata": {},
     "output_type": "execute_result"
    }
   ],
   "source": [
    "circle.x,circle.y,circle.radius"
   ]
  },
  {
   "cell_type": "code",
   "execution_count": 25,
   "id": "6948c0be",
   "metadata": {},
   "outputs": [
    {
     "data": {
      "text/plain": [
       "314.1592653589793"
      ]
     },
     "execution_count": 25,
     "metadata": {},
     "output_type": "execute_result"
    }
   ],
   "source": [
    "circle.get_area()"
   ]
  },
  {
   "cell_type": "markdown",
   "id": "f2258703",
   "metadata": {},
   "source": [
    "# Generators"
   ]
  },
  {
   "cell_type": "code",
   "execution_count": 39,
   "id": "c18b1661",
   "metadata": {},
   "outputs": [],
   "source": [
    "def make_numbers_1():\n",
    "    numbers =[]\n",
    "    for i in range(1,11):\n",
    "        numbers.append(i)\n",
    "    return numbers"
   ]
  },
  {
   "cell_type": "code",
   "execution_count": 40,
   "id": "e6fa239d",
   "metadata": {},
   "outputs": [
    {
     "data": {
      "text/plain": [
       "[1, 2, 3, 4, 5, 6, 7, 8, 9, 10]"
      ]
     },
     "execution_count": 40,
     "metadata": {},
     "output_type": "execute_result"
    }
   ],
   "source": [
    "make_numbers_1()"
   ]
  },
  {
   "cell_type": "code",
   "execution_count": 41,
   "id": "156ce5d8",
   "metadata": {},
   "outputs": [
    {
     "name": "stdout",
     "output_type": "stream",
     "text": [
      "1\n",
      "2\n",
      "3\n",
      "4\n",
      "5\n",
      "6\n",
      "7\n",
      "8\n",
      "9\n",
      "10\n"
     ]
    }
   ],
   "source": [
    "for number in make_numbers_1():\n",
    "    print(number)"
   ]
  },
  {
   "cell_type": "code",
   "execution_count": 45,
   "id": "e7b84328",
   "metadata": {},
   "outputs": [],
   "source": [
    "def make_numbers_2():  #gemerator function\n",
    "    for i in range(1,11):\n",
    "        i\n",
    "        yield i"
   ]
  },
  {
   "cell_type": "code",
   "execution_count": 46,
   "id": "ab4d8138",
   "metadata": {},
   "outputs": [
    {
     "data": {
      "text/plain": [
       "<generator object make_numbers_2 at 0x00000193AA1BC820>"
      ]
     },
     "execution_count": 46,
     "metadata": {},
     "output_type": "execute_result"
    }
   ],
   "source": [
    "make_numbers_2() #make_numbers_2 타입의 새로운 Generator 변수(객체)"
   ]
  },
  {
   "cell_type": "code",
   "execution_count": 47,
   "id": "ea6f0ec7",
   "metadata": {},
   "outputs": [
    {
     "data": {
      "text/plain": [
       "<generator object make_numbers_2 at 0x00000193AA1BC3C0>"
      ]
     },
     "execution_count": 47,
     "metadata": {},
     "output_type": "execute_result"
    }
   ],
   "source": [
    "make_numbers_2()"
   ]
  },
  {
   "cell_type": "code",
   "execution_count": 48,
   "id": "e4e36753",
   "metadata": {},
   "outputs": [],
   "source": [
    "gen_numbers = make_numbers_2()"
   ]
  },
  {
   "cell_type": "code",
   "execution_count": 49,
   "id": "6035300a",
   "metadata": {},
   "outputs": [
    {
     "data": {
      "text/plain": [
       "1"
      ]
     },
     "execution_count": 49,
     "metadata": {},
     "output_type": "execute_result"
    }
   ],
   "source": [
    "next(gen_numbers)"
   ]
  },
  {
   "cell_type": "code",
   "execution_count": 50,
   "id": "025a2049",
   "metadata": {},
   "outputs": [
    {
     "data": {
      "text/plain": [
       "2"
      ]
     },
     "execution_count": 50,
     "metadata": {},
     "output_type": "execute_result"
    }
   ],
   "source": [
    "next(gen_numbers)"
   ]
  },
  {
   "cell_type": "code",
   "execution_count": 51,
   "id": "0d794306",
   "metadata": {},
   "outputs": [
    {
     "data": {
      "text/plain": [
       "3"
      ]
     },
     "execution_count": 51,
     "metadata": {},
     "output_type": "execute_result"
    }
   ],
   "source": [
    "next(gen_numbers)"
   ]
  },
  {
   "cell_type": "code",
   "execution_count": 52,
   "id": "1e3f5781",
   "metadata": {},
   "outputs": [
    {
     "data": {
      "text/plain": [
       "4"
      ]
     },
     "execution_count": 52,
     "metadata": {},
     "output_type": "execute_result"
    }
   ],
   "source": [
    "next(gen_numbers)"
   ]
  },
  {
   "cell_type": "code",
   "execution_count": 53,
   "id": "77f2b784",
   "metadata": {},
   "outputs": [
    {
     "data": {
      "text/plain": [
       "5"
      ]
     },
     "execution_count": 53,
     "metadata": {},
     "output_type": "execute_result"
    }
   ],
   "source": [
    "next(gen_numbers)"
   ]
  },
  {
   "cell_type": "code",
   "execution_count": 58,
   "id": "a2225d5d",
   "metadata": {},
   "outputs": [
    {
     "data": {
      "text/plain": [
       "10"
      ]
     },
     "execution_count": 58,
     "metadata": {},
     "output_type": "execute_result"
    }
   ],
   "source": [
    "next(gen_numbers)"
   ]
  },
  {
   "cell_type": "code",
   "execution_count": 59,
   "id": "5ad8c82f",
   "metadata": {},
   "outputs": [
    {
     "ename": "StopIteration",
     "evalue": "",
     "output_type": "error",
     "traceback": [
      "\u001b[1;31m---------------------------------------------------------------------------\u001b[0m",
      "\u001b[1;31mStopIteration\u001b[0m                             Traceback (most recent call last)",
      "\u001b[1;32m~\\AppData\\Local\\Temp/ipykernel_4228/66070288.py\u001b[0m in \u001b[0;36m<module>\u001b[1;34m\u001b[0m\n\u001b[1;32m----> 1\u001b[1;33m \u001b[0mnext\u001b[0m\u001b[1;33m(\u001b[0m\u001b[0mgen_numbers\u001b[0m\u001b[1;33m)\u001b[0m\u001b[1;33m\u001b[0m\u001b[1;33m\u001b[0m\u001b[0m\n\u001b[0m",
      "\u001b[1;31mStopIteration\u001b[0m: "
     ]
    }
   ],
   "source": [
    "next(gen_numbers)"
   ]
  },
  {
   "cell_type": "code",
   "execution_count": 62,
   "id": "fd231f33",
   "metadata": {},
   "outputs": [
    {
     "name": "stdout",
     "output_type": "stream",
     "text": [
      "1\n",
      "2\n",
      "----\n",
      "3\n",
      "4\n",
      "5\n",
      "6\n",
      "7\n",
      "8\n",
      "9\n",
      "10\n"
     ]
    }
   ],
   "source": [
    "gen_numbers2 = make_numbers_2()\n",
    "print(next(gen_numbers2))\n",
    "print(next(gen_numbers2))\n",
    "print(\"----\")\n",
    "for number in gen_numbers2:\n",
    "    print(number)"
   ]
  },
  {
   "cell_type": "code",
   "execution_count": 69,
   "id": "8c511208",
   "metadata": {},
   "outputs": [],
   "source": [
    "def make_numbers_2():  #gemerator function\n",
    "    for i in range(1,11):\n",
    "        i\n",
    "        yield i"
   ]
  },
  {
   "cell_type": "code",
   "execution_count": 70,
   "id": "675e8b52",
   "metadata": {},
   "outputs": [
    {
     "data": {
      "text/plain": [
       "[1, 2, 3, 4, 5, 6, 7, 8, 9, 10]"
      ]
     },
     "execution_count": 70,
     "metadata": {},
     "output_type": "execute_result"
    }
   ],
   "source": [
    "[i for i in range(1,11)]  #list comprehension"
   ]
  },
  {
   "cell_type": "code",
   "execution_count": 71,
   "id": "5ef9f8f4",
   "metadata": {},
   "outputs": [
    {
     "data": {
      "text/plain": [
       "{1, 2, 3, 4, 5, 6, 7, 8, 9, 10}"
      ]
     },
     "execution_count": 71,
     "metadata": {},
     "output_type": "execute_result"
    }
   ],
   "source": [
    "{i for i in range(1,11)}  #set comprehension"
   ]
  },
  {
   "cell_type": "code",
   "execution_count": 73,
   "id": "6cde7bd9",
   "metadata": {},
   "outputs": [
    {
     "data": {
      "text/plain": [
       "<generator object <genexpr> at 0x00000193AA0C8740>"
      ]
     },
     "execution_count": 73,
     "metadata": {},
     "output_type": "execute_result"
    }
   ],
   "source": [
    "gen1 = (i**2 for i in range(1,11))  # generator expresion (표현식)\n",
    "gen1"
   ]
  },
  {
   "cell_type": "code",
   "execution_count": 75,
   "id": "d5ca913e",
   "metadata": {},
   "outputs": [
    {
     "data": {
      "text/plain": [
       "<generator object make_numbers_3 at 0x00000193AA1BFCA0>"
      ]
     },
     "execution_count": 75,
     "metadata": {},
     "output_type": "execute_result"
    }
   ],
   "source": [
    "def make_numbers_3():  #generator expresion = generator function\n",
    "    for i in range(1,11):\n",
    "        yield i**2\n",
    "gen2  = make_numbers_3()      \n",
    "gen2"
   ]
  },
  {
   "cell_type": "code",
   "execution_count": null,
   "id": "b1030f91",
   "metadata": {},
   "outputs": [],
   "source": []
  }
 ],
 "metadata": {
  "kernelspec": {
   "display_name": "Python 3 (ipykernel)",
   "language": "python",
   "name": "python3"
  },
  "language_info": {
   "codemirror_mode": {
    "name": "ipython",
    "version": 3
   },
   "file_extension": ".py",
   "mimetype": "text/x-python",
   "name": "python",
   "nbconvert_exporter": "python",
   "pygments_lexer": "ipython3",
   "version": "3.10.0"
  }
 },
 "nbformat": 4,
 "nbformat_minor": 5
}
