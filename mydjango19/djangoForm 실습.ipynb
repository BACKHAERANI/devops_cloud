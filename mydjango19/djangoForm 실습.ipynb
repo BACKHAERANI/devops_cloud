{
 "cells": [
  {
   "cell_type": "code",
   "execution_count": 1,
   "id": "3fe25cfe",
   "metadata": {},
   "outputs": [],
   "source": [
    "import os\n",
    "\n",
    "os.environ[\"DJANGO_SETTINGS_MODULE\"] = \"mydjango17.settings\"\n",
    "os.environ[\"DJANGO_ALLOW_ASYNC_UNSAFE\"] = \"true\"\n",
    "\n",
    "import django\n",
    "django.setup()"
   ]
  },
  {
   "cell_type": "code",
   "execution_count": 15,
   "id": "191f5059",
   "metadata": {},
   "outputs": [],
   "source": [
    "from django import forms\n",
    "from django.core.validators import RegexValidator"
   ]
  },
  {
   "cell_type": "code",
   "execution_count": 17,
   "id": "716e3193",
   "metadata": {},
   "outputs": [],
   "source": [
    "class PostForm(forms.Form):\n",
    "    title = forms.CharField()\n",
    "    content = forms.CharField()\n",
    "    phone = forms.CharField(validators=[ RegexValidator(r\"^\\d{3}-?\\d{4}-?\\d{4}$\", message  =\"휴대폰번호를 입력해주세요.\")])"
   ]
  },
  {
   "cell_type": "markdown",
   "id": "a97aa560",
   "metadata": {},
   "source": [
    "# 입력서식을 보여줌"
   ]
  },
  {
   "cell_type": "code",
   "execution_count": 18,
   "id": "c2086532",
   "metadata": {},
   "outputs": [
    {
     "data": {
      "text/plain": [
       "'<tr><th><label for=\"id_title\">Title:</label></th><td><input type=\"text\" name=\"title\" required id=\"id_title\"></td></tr>\\n<tr><th><label for=\"id_content\">Content:</label></th><td><input type=\"text\" name=\"content\" required id=\"id_content\"></td></tr>\\n<tr><th><label for=\"id_phone\">Phone:</label></th><td><input type=\"text\" name=\"phone\" required id=\"id_phone\"></td></tr>'"
      ]
     },
     "execution_count": 18,
     "metadata": {},
     "output_type": "execute_result"
    }
   ],
   "source": [
    "#장고 폼을 통해 입력서식 HTML을 자동생성\n",
    "\n",
    "form = PostForm()\n",
    "form.as_table()"
   ]
  },
  {
   "cell_type": "markdown",
   "id": "326a2852",
   "metadata": {},
   "source": [
    "# 입력서식을 유저가 값을 기입하고 저장(submit)을 눌렀을 때"
   ]
  },
  {
   "cell_type": "code",
   "execution_count": 20,
   "id": "8bc798d1",
   "metadata": {},
   "outputs": [
    {
     "name": "stdout",
     "output_type": "stream",
     "text": [
      "에러 메세지 HTML: <ul class=\"errorlist\"><li>title<ul class=\"errorlist\"><li>This field is required.</li></ul></li><li>content<ul class=\"errorlist\"><li>This field is required.</li></ul></li><li>phone<ul class=\"errorlist\"><li>휴대폰번호를 입력해주세요.</li></ul></li></ul>\n"
     ]
    }
   ],
   "source": [
    "data = {\"title\" :\"\",\n",
    "       \"content\":\"\",\n",
    "        \"phone\":\"0101456478\"\n",
    "       }\n",
    "form = PostForm(data)\n",
    "if form.is_valid():\n",
    "    print(\"유효성검사에 통과한 값들:\",form.cleaned_data)\n",
    "else:\n",
    "    print(\"에러 메세지 HTML:\", form.errors)"
   ]
  },
  {
   "cell_type": "code",
   "execution_count": null,
   "id": "0b5bcf0b",
   "metadata": {},
   "outputs": [],
   "source": []
  }
 ],
 "metadata": {
  "kernelspec": {
   "display_name": "Python 3 (ipykernel)",
   "language": "python",
   "name": "python3"
  },
  "language_info": {
   "codemirror_mode": {
    "name": "ipython",
    "version": 3
   },
   "file_extension": ".py",
   "mimetype": "text/x-python",
   "name": "python",
   "nbconvert_exporter": "python",
   "pygments_lexer": "ipython3",
   "version": "3.10.0"
  }
 },
 "nbformat": 4,
 "nbformat_minor": 5
}
