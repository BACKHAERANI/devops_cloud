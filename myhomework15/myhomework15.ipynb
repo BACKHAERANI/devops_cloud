{
 "cells": [
  {
   "cell_type": "code",
   "execution_count": 1,
   "id": "d5a8482e",
   "metadata": {},
   "outputs": [],
   "source": [
    "import os\n",
    "os.environ[\"DJANGO_SETTINGS_MODULE\"] = \"myhomework15.settings\"\n",
    "os.environ[\"DJANGO_ALLOW_ASYNC_UNSAFE\"] = \"true\"\n",
    "\n",
    "import django\n",
    "django.setup()\n"
   ]
  },
  {
   "cell_type": "code",
   "execution_count": 2,
   "id": "014e1035",
   "metadata": {},
   "outputs": [
    {
     "data": {
      "text/plain": [
       "[['name', 'description', 'address', 'coordinates', 'telephone'],\n",
       " ['황남금고',\n",
       "  '차돌파스타, 깔조네피자가 유명한 황리단맛집\\n',\n",
       "  '경북 경주시 첨성로81번길 31 1층',\n",
       "  '35.8359307,129.2109006',\n",
       "  '0507-1372-6573'],\n",
       " ['피자옥',\n",
       "  '황리단길 트러플피자, 파스타 맛집\\n브레이크타임 15:00 - 17:00\\n(주말, 공휴일 브레이크타임 없음)',\n",
       "  '경북 경주시 손효자길 1 1층',\n",
       "  '35.8364299,129.2108207',\n",
       "  '0507-1311-7828'],\n",
       " ['도솔마을',\n",
       "  '가성비가 좋은 140년된 전통가옥 한정식 맛집\\n브레이크타임15:00-17:00 \\n매주 월화 정규휴일',\n",
       "  '경북 경주시 손효자길 8-13',\n",
       "  '35.83705399999999,129.2112253',\n",
       "  '054-748-9232'],\n",
       " ['향화정',\n",
       "  '줄서서 먹는 육회비빔밥\\n예약 불가\\n물회 제외 전메뉴 포장 가능',\n",
       "  '경북 경주시 사정로57번길 17',\n",
       "  '35.8380451,129.209196',\n",
       "  '0507-1359-8765'],\n",
       " ['온센 경주점',\n",
       "  '바삭바삭한 튀김 덮밥, 텐동\\n브레이크타임15:00-17:00 ',\n",
       "  '경북 경주시 사정로 47-2',\n",
       "  '35.8367156,129.2084044',\n",
       "  '0507-1326-1197'],\n",
       " ['이이로 커피',\n",
       "  '1,2층 및 야외좌석\\n애견동반 가능\\n(실내에서는 안거나 의자에 앉혀두고, 야외에서는 목줄착용)\\n키즈동반 가능',\n",
       "  '경북 경주시 첨성로99번길 22',\n",
       "  '35.83515209999999,129.2127681',\n",
       "  '0507-1397-8788'],\n",
       " ['천년식당',\n",
       "  '특별한 대창파스타\\n브레이크타임 15:00-17:00\\n라스트오더 20:30',\n",
       "  '경북 경주시 첨성로81번길 34 ',\n",
       "  '35.8360503,129.2112864',\n",
       "  '054-624-8134'],\n",
       " ['시즈닝',\n",
       "  '한옥인테리어의 고즈넉함 속에서 식사\\n노키즈존(0-13세)',\n",
       "  '경북 경주시 첨성로99번길 25-2',\n",
       "  '35.8354699,129.2124486',\n",
       "  '0507-1483-7477'],\n",
       " ['대화만두 황리단점',\n",
       "  '35년 전통 손만두집\\n브레이크타임 15:00-16:00',\n",
       "  '경북 경주시 포석로 1093 ',\n",
       "  '35.8387126,129.2096799',\n",
       "  '054-771-3355'],\n",
       " ['1994dining',\n",
       "  '평범함 속의 특별함\\n덜어먹기 가능한 도구 제공\\n종사자 마스크 착용 준수\\n라스트오더 15:00',\n",
       "  '경북 경주시 포석로 1064-4 1994',\n",
       "  '35.83578019999999,129.2100006',\n",
       "  '0507-1320-9402']]"
      ]
     },
     "execution_count": 2,
     "metadata": {},
     "output_type": "execute_result"
    }
   ],
   "source": [
    "from openpyxl import load_workbook\n",
    "wb = load_workbook('myhomework15-data.xlsx')\n",
    "sheet = wb.active\n",
    "rows = [\n",
    "    [column.value for column in row]\n",
    "    for row in sheet\n",
    "]\n",
    "rows\n"
   ]
  },
  {
   "cell_type": "code",
   "execution_count": 3,
   "id": "5bc46d79",
   "metadata": {},
   "outputs": [
    {
     "data": {
      "text/plain": [
       "['name', 'description', 'address', 'coordinates', 'telephone']"
      ]
     },
     "execution_count": 3,
     "metadata": {},
     "output_type": "execute_result"
    }
   ],
   "source": [
    "column_names = rows[0]\n",
    "column_names"
   ]
  },
  {
   "cell_type": "code",
   "execution_count": 4,
   "id": "ebbe532f",
   "metadata": {},
   "outputs": [
    {
     "data": {
      "text/plain": [
       "[{'name': '황남금고',\n",
       "  'description': '차돌파스타, 깔조네피자가 유명한 황리단맛집\\n',\n",
       "  'address': '경북 경주시 첨성로81번길 31 1층',\n",
       "  'telephone': '0507-1372-6573',\n",
       "  'latitude': '35.8359307',\n",
       "  'longitude': '129.2109006'},\n",
       " {'name': '피자옥',\n",
       "  'description': '황리단길 트러플피자, 파스타 맛집\\n브레이크타임 15:00 - 17:00\\n(주말, 공휴일 브레이크타임 없음)',\n",
       "  'address': '경북 경주시 손효자길 1 1층',\n",
       "  'telephone': '0507-1311-7828',\n",
       "  'latitude': '35.8364299',\n",
       "  'longitude': '129.2108207'},\n",
       " {'name': '도솔마을',\n",
       "  'description': '가성비가 좋은 140년된 전통가옥 한정식 맛집\\n브레이크타임15:00-17:00 \\n매주 월화 정규휴일',\n",
       "  'address': '경북 경주시 손효자길 8-13',\n",
       "  'telephone': '054-748-9232',\n",
       "  'latitude': '35.83705399999999',\n",
       "  'longitude': '129.2112253'},\n",
       " {'name': '향화정',\n",
       "  'description': '줄서서 먹는 육회비빔밥\\n예약 불가\\n물회 제외 전메뉴 포장 가능',\n",
       "  'address': '경북 경주시 사정로57번길 17',\n",
       "  'telephone': '0507-1359-8765',\n",
       "  'latitude': '35.8380451',\n",
       "  'longitude': '129.209196'},\n",
       " {'name': '온센 경주점',\n",
       "  'description': '바삭바삭한 튀김 덮밥, 텐동\\n브레이크타임15:00-17:00 ',\n",
       "  'address': '경북 경주시 사정로 47-2',\n",
       "  'telephone': '0507-1326-1197',\n",
       "  'latitude': '35.8367156',\n",
       "  'longitude': '129.2084044'},\n",
       " {'name': '이이로 커피',\n",
       "  'description': '1,2층 및 야외좌석\\n애견동반 가능\\n(실내에서는 안거나 의자에 앉혀두고, 야외에서는 목줄착용)\\n키즈동반 가능',\n",
       "  'address': '경북 경주시 첨성로99번길 22',\n",
       "  'telephone': '0507-1397-8788',\n",
       "  'latitude': '35.83515209999999',\n",
       "  'longitude': '129.2127681'},\n",
       " {'name': '천년식당',\n",
       "  'description': '특별한 대창파스타\\n브레이크타임 15:00-17:00\\n라스트오더 20:30',\n",
       "  'address': '경북 경주시 첨성로81번길 34 ',\n",
       "  'telephone': '054-624-8134',\n",
       "  'latitude': '35.8360503',\n",
       "  'longitude': '129.2112864'},\n",
       " {'name': '시즈닝',\n",
       "  'description': '한옥인테리어의 고즈넉함 속에서 식사\\n노키즈존(0-13세)',\n",
       "  'address': '경북 경주시 첨성로99번길 25-2',\n",
       "  'telephone': '0507-1483-7477',\n",
       "  'latitude': '35.8354699',\n",
       "  'longitude': '129.2124486'},\n",
       " {'name': '대화만두 황리단점',\n",
       "  'description': '35년 전통 손만두집\\n브레이크타임 15:00-16:00',\n",
       "  'address': '경북 경주시 포석로 1093 ',\n",
       "  'telephone': '054-771-3355',\n",
       "  'latitude': '35.8387126',\n",
       "  'longitude': '129.2096799'},\n",
       " {'name': '1994dining',\n",
       "  'description': '평범함 속의 특별함\\n덜어먹기 가능한 도구 제공\\n종사자 마스크 착용 준수\\n라스트오더 15:00',\n",
       "  'address': '경북 경주시 포석로 1064-4 1994',\n",
       "  'telephone': '0507-1320-9402',\n",
       "  'latitude': '35.83578019999999',\n",
       "  'longitude': '129.2100006'}]"
      ]
     },
     "execution_count": 4,
     "metadata": {},
     "output_type": "execute_result"
    }
   ],
   "source": [
    "row_list = []\n",
    "\n",
    "for row in rows[1:]:\n",
    "    row_dict= dict(zip(column_names, row))\n",
    "    latitude, longitude = row_dict[\"coordinates\"].split(\",\")\n",
    "    row_dict[\"latitude\"] = latitude\n",
    "    row_dict[\"longitude\"] = longitude\n",
    "    del row_dict[\"coordinates\"]\n",
    "    row_list.append(row_dict)\n",
    "\n",
    "row_list    \n",
    "    "
   ]
  },
  {
   "cell_type": "code",
   "execution_count": 5,
   "id": "8c5e3048",
   "metadata": {},
   "outputs": [],
   "source": [
    "from hwangridangil.models import Shop"
   ]
  },
  {
   "cell_type": "code",
   "execution_count": 6,
   "id": "5437e079",
   "metadata": {},
   "outputs": [
    {
     "name": "stdout",
     "output_type": "stream",
     "text": [
      "Shop object (1)\n",
      "Shop object (2)\n",
      "Shop object (3)\n",
      "Shop object (4)\n",
      "Shop object (5)\n",
      "Shop object (6)\n",
      "Shop object (7)\n",
      "Shop object (8)\n",
      "Shop object (9)\n",
      "Shop object (10)\n"
     ]
    }
   ],
   "source": [
    "for row_dict in row_list:\n",
    "    shop= Shop(**row_dict)\n",
    "    shop.save()\n",
    "    print (shop)"
   ]
  },
  {
   "cell_type": "code",
   "execution_count": null,
   "id": "ef6b20c5",
   "metadata": {},
   "outputs": [],
   "source": []
  }
 ],
 "metadata": {
  "kernelspec": {
   "display_name": "Python 3 (ipykernel)",
   "language": "python",
   "name": "python3"
  },
  "language_info": {
   "codemirror_mode": {
    "name": "ipython",
    "version": 3
   },
   "file_extension": ".py",
   "mimetype": "text/x-python",
   "name": "python",
   "nbconvert_exporter": "python",
   "pygments_lexer": "ipython3",
   "version": "3.10.0"
  }
 },
 "nbformat": 4,
 "nbformat_minor": 5
}
